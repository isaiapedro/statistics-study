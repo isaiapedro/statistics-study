{
  "nbformat": 4,
  "nbformat_minor": 0,
  "metadata": {
    "colab": {
      "provenance": []
    },
    "kernelspec": {
      "name": "python3",
      "display_name": "Python 3"
    },
    "language_info": {
      "name": "python"
    }
  },
  "cells": [
    {
      "cell_type": "markdown",
      "source": [
        "## Importing Libraries and Defining Plots"
      ],
      "metadata": {
        "id": "8TwCaIuYMiKz"
      }
    },
    {
      "cell_type": "code",
      "execution_count": 28,
      "metadata": {
        "id": "3Kvi_5F1Lzga"
      },
      "outputs": [],
      "source": [
        "from IPython.display import display\n",
        "import numpy as np\n",
        "import matplotlib.pyplot as plt\n",
        "import pandas as pd\n",
        "\n",
        "import math"
      ]
    },
    {
      "cell_type": "code",
      "source": [
        "def get_frequency_table(column, sort=False):\n",
        "    count = column.value_counts()\n",
        "    if sort:\n",
        "        count = count.sort_index()\n",
        "    frequency_table = pd.DataFrame({'value': count.index, 'count': count.values})\n",
        "    frequency_table['freq'] = [None] * len(frequency_table)\n",
        "    frequency_table['freq_acc'] = [None] * len(frequency_table)\n",
        "\n",
        "    total = frequency_table['count'].sum()\n",
        "\n",
        "    for i, row in frequency_table.iterrows():\n",
        "        freq = round(row['count'] / total, 2)\n",
        "        prev_freq_acc = 0 if i == 0 else frequency_table.at[i-1, 'freq_acc']\n",
        "        frequency_table.at[i, 'freq'] = freq\n",
        "        frequency_table.at[i, 'freq_acc'] = freq + prev_freq_acc\n",
        "    return frequency_table\n",
        "\n",
        "def plot_histogram(column, bin_edges=None):\n",
        "    plt.figure(figsize=(4, 4))\n",
        "    if not bin_edges:\n",
        "        bin_edges = list(range(int(column.min()) - 1, int(column.max()) + 2))\n",
        "    plt.hist(column, density=True, bins=bin_edges, edgecolor='black')\n",
        "    plt.show()\n",
        "\n",
        "def plot_pie(frequency_table, column_name):\n",
        "    plt.figure(figsize=(4, 4))\n",
        "    frequency_table = frequency_table.set_index(\"value\")\n",
        "    frequency_table[\"count\"].plot.pie(autopct='%1.1f%%', startangle=90)\n",
        "    plt.show()\n",
        "\n",
        "def plot_boxplot(column):\n",
        "    plt.figure(figsize=(4, 4))\n",
        "    column.plot.box()\n",
        "    plt.title('Boxplot')\n",
        "    plt.show()"
      ],
      "metadata": {
        "id": "f72fXTm4MRkM"
      },
      "execution_count": 29,
      "outputs": []
    },
    {
      "cell_type": "markdown",
      "source": [
        "## Exercises:"
      ],
      "metadata": {
        "id": "oloTGTHhR0_2"
      }
    },
    {
      "cell_type": "markdown",
      "source": [
        "## 1.\n",
        "A coin is tossed three times and the sequence of heads and tails is recorded.\n",
        "<br>\n",
        "a. List the sample space.\n",
        "<br>\n",
        "b. List the elements that make up the following events: (1) A = at least two\n",
        "heads, (2) B = the first two tosses are heads, (3) C = the last toss is a tail.\n",
        "<br>\n",
        "c. List the elements of the following events: (1) A^c, (2) A ∩ B, (3) A ∪ C.\n"
      ],
      "metadata": {
        "id": "1RkZMcRSMqDS"
      }
    },
    {
      "cell_type": "code",
      "source": [
        "# listing sample space\n",
        "coin = ['HHH', 'HHT', 'HTH', 'HTT', 'THH', 'THT', 'TTH', 'TTT']\n",
        "sample = np.array(coin)\n",
        "print(\"a) Sample Space: \\n Ω =\", sample)\n",
        "\n",
        "# get list of events with two heads\n",
        "list2 = []\n",
        "\n",
        "for i in sample:\n",
        "  if 'H' + 'H' in i or 'H' + 'T' + 'H' in i:\n",
        "    list2.append(i)\n",
        "\n",
        "A = np.array(list2)\n",
        "print(\"\\nb)\\n(1) A = \", A)\n",
        "\n",
        "# get first two heads only\n",
        "list3 = []\n",
        "\n",
        "for j in sample:\n",
        "  if 'HH' in j and 'T' not in j[0:1]:\n",
        "    list3.append(j)\n",
        "\n",
        "B = np.array(list3)\n",
        "print(\"(2) B = \", B)\n",
        "\n",
        "# get last toss as tail\n",
        "list4 = []\n",
        "\n",
        "for k in sample:\n",
        "  if 'T' in k[2]:\n",
        "    list4.append(k)\n",
        "\n",
        "C = np.array(list4)\n",
        "print(\"(3) C = \", C)\n",
        "\n",
        "# Complement of A\n",
        "\n",
        "Ac = np.setdiff1d(sample, A)\n",
        "print(\"\\nc)\\n(1) Ac = \", Ac)\n",
        "\n",
        "# A intersection with B\n",
        "\n",
        "AiB = np.intersect1d(A, B)\n",
        "print(\"(2) A ∩ B = \", AiB)\n",
        "\n",
        "# A union with C\n",
        "\n",
        "AuC = np.union1d(A, C)\n",
        "print(\"(3) A ∪ C = \", AuC)"
      ],
      "metadata": {
        "colab": {
          "base_uri": "https://localhost:8080/"
        },
        "id": "1mfw_etpMSXw",
        "outputId": "f75dfcbd-d23f-4538-baea-cdfba4cdeac9"
      },
      "execution_count": 30,
      "outputs": [
        {
          "output_type": "stream",
          "name": "stdout",
          "text": [
            "a) Sample Space: \n",
            " Ω = ['HHH' 'HHT' 'HTH' 'HTT' 'THH' 'THT' 'TTH' 'TTT']\n",
            "\n",
            "b)\n",
            "(1) A =  ['HHH' 'HHT' 'HTH' 'THH']\n",
            "(2) B =  ['HHH' 'HHT']\n",
            "(3) C =  ['HHT' 'HTT' 'THT' 'TTT']\n",
            "\n",
            "c)\n",
            "(1) Ac =  ['HTT' 'THT' 'TTH' 'TTT']\n",
            "(2) A ∩ B =  ['HHH' 'HHT']\n",
            "(3) A ∪ C =  ['HHH' 'HHT' 'HTH' 'HTT' 'THH' 'THT' 'TTT']\n"
          ]
        }
      ]
    },
    {
      "cell_type": "markdown",
      "source": [
        "##3.\n",
        "An urn contains three red balls, two green balls, and one white ball. Three balls are drawn without replacement from the urn, and the colors are noted in sequence.\n",
        "<br>\n",
        "List the sample space. Define events A, B, and C as you wish and find their unions and intersections."
      ],
      "metadata": {
        "id": "RpQ0tAfhVIN2"
      }
    },
    {
      "cell_type": "code",
      "source": [
        "import itertools\n",
        "\n",
        "# listing sample space\n",
        "ball = ['RRRGGW']\n",
        "\n",
        "*sample, = itertools.permutations(*ball, 3)\n",
        "\n",
        "sample = np.array(sample)\n",
        "\n",
        "print(\"Sample Space: \\nΩ =\", sample)"
      ],
      "metadata": {
        "colab": {
          "base_uri": "https://localhost:8080/"
        },
        "id": "OJMmY7muNIZY",
        "outputId": "87d15302-8972-4d55-be68-7e13a6e83cbf"
      },
      "execution_count": 31,
      "outputs": [
        {
          "output_type": "stream",
          "name": "stdout",
          "text": [
            "Sample Space: \n",
            "Ω = [['R' 'R' 'R']\n",
            " ['R' 'R' 'G']\n",
            " ['R' 'R' 'G']\n",
            " ['R' 'R' 'W']\n",
            " ['R' 'R' 'R']\n",
            " ['R' 'R' 'G']\n",
            " ['R' 'R' 'G']\n",
            " ['R' 'R' 'W']\n",
            " ['R' 'G' 'R']\n",
            " ['R' 'G' 'R']\n",
            " ['R' 'G' 'G']\n",
            " ['R' 'G' 'W']\n",
            " ['R' 'G' 'R']\n",
            " ['R' 'G' 'R']\n",
            " ['R' 'G' 'G']\n",
            " ['R' 'G' 'W']\n",
            " ['R' 'W' 'R']\n",
            " ['R' 'W' 'R']\n",
            " ['R' 'W' 'G']\n",
            " ['R' 'W' 'G']\n",
            " ['R' 'R' 'R']\n",
            " ['R' 'R' 'G']\n",
            " ['R' 'R' 'G']\n",
            " ['R' 'R' 'W']\n",
            " ['R' 'R' 'R']\n",
            " ['R' 'R' 'G']\n",
            " ['R' 'R' 'G']\n",
            " ['R' 'R' 'W']\n",
            " ['R' 'G' 'R']\n",
            " ['R' 'G' 'R']\n",
            " ['R' 'G' 'G']\n",
            " ['R' 'G' 'W']\n",
            " ['R' 'G' 'R']\n",
            " ['R' 'G' 'R']\n",
            " ['R' 'G' 'G']\n",
            " ['R' 'G' 'W']\n",
            " ['R' 'W' 'R']\n",
            " ['R' 'W' 'R']\n",
            " ['R' 'W' 'G']\n",
            " ['R' 'W' 'G']\n",
            " ['R' 'R' 'R']\n",
            " ['R' 'R' 'G']\n",
            " ['R' 'R' 'G']\n",
            " ['R' 'R' 'W']\n",
            " ['R' 'R' 'R']\n",
            " ['R' 'R' 'G']\n",
            " ['R' 'R' 'G']\n",
            " ['R' 'R' 'W']\n",
            " ['R' 'G' 'R']\n",
            " ['R' 'G' 'R']\n",
            " ['R' 'G' 'G']\n",
            " ['R' 'G' 'W']\n",
            " ['R' 'G' 'R']\n",
            " ['R' 'G' 'R']\n",
            " ['R' 'G' 'G']\n",
            " ['R' 'G' 'W']\n",
            " ['R' 'W' 'R']\n",
            " ['R' 'W' 'R']\n",
            " ['R' 'W' 'G']\n",
            " ['R' 'W' 'G']\n",
            " ['G' 'R' 'R']\n",
            " ['G' 'R' 'R']\n",
            " ['G' 'R' 'G']\n",
            " ['G' 'R' 'W']\n",
            " ['G' 'R' 'R']\n",
            " ['G' 'R' 'R']\n",
            " ['G' 'R' 'G']\n",
            " ['G' 'R' 'W']\n",
            " ['G' 'R' 'R']\n",
            " ['G' 'R' 'R']\n",
            " ['G' 'R' 'G']\n",
            " ['G' 'R' 'W']\n",
            " ['G' 'G' 'R']\n",
            " ['G' 'G' 'R']\n",
            " ['G' 'G' 'R']\n",
            " ['G' 'G' 'W']\n",
            " ['G' 'W' 'R']\n",
            " ['G' 'W' 'R']\n",
            " ['G' 'W' 'R']\n",
            " ['G' 'W' 'G']\n",
            " ['G' 'R' 'R']\n",
            " ['G' 'R' 'R']\n",
            " ['G' 'R' 'G']\n",
            " ['G' 'R' 'W']\n",
            " ['G' 'R' 'R']\n",
            " ['G' 'R' 'R']\n",
            " ['G' 'R' 'G']\n",
            " ['G' 'R' 'W']\n",
            " ['G' 'R' 'R']\n",
            " ['G' 'R' 'R']\n",
            " ['G' 'R' 'G']\n",
            " ['G' 'R' 'W']\n",
            " ['G' 'G' 'R']\n",
            " ['G' 'G' 'R']\n",
            " ['G' 'G' 'R']\n",
            " ['G' 'G' 'W']\n",
            " ['G' 'W' 'R']\n",
            " ['G' 'W' 'R']\n",
            " ['G' 'W' 'R']\n",
            " ['G' 'W' 'G']\n",
            " ['W' 'R' 'R']\n",
            " ['W' 'R' 'R']\n",
            " ['W' 'R' 'G']\n",
            " ['W' 'R' 'G']\n",
            " ['W' 'R' 'R']\n",
            " ['W' 'R' 'R']\n",
            " ['W' 'R' 'G']\n",
            " ['W' 'R' 'G']\n",
            " ['W' 'R' 'R']\n",
            " ['W' 'R' 'R']\n",
            " ['W' 'R' 'G']\n",
            " ['W' 'R' 'G']\n",
            " ['W' 'G' 'R']\n",
            " ['W' 'G' 'R']\n",
            " ['W' 'G' 'R']\n",
            " ['W' 'G' 'G']\n",
            " ['W' 'G' 'R']\n",
            " ['W' 'G' 'R']\n",
            " ['W' 'G' 'R']\n",
            " ['W' 'G' 'G']]\n"
          ]
        }
      ]
    },
    {
      "cell_type": "code",
      "source": [
        "\n",
        "# A event is the probability of getting 3 red balls\n",
        "lista = []\n",
        "\n",
        "lista.append(sample[0])\n",
        "\n",
        "A = np.array(lista)\n",
        "print(\"\\nA event occurs when red is drawn three times.\\nA: \", A)\n",
        "\n",
        "# B event is the probability of getting a green ball in the last draw\n",
        "listb = []\n",
        "\n",
        "for i in sample:\n",
        "  if 'G' in i[2]:\n",
        "    listb.append(i)\n",
        "\n",
        "B = np.array(listb)\n",
        "print(\"\\nB event occurs when green is drawn on the last draw.\\nB: \", B)\n",
        "\n",
        "# C event is the probability of getting a red ball in the second draw\n",
        "listc = []\n",
        "\n",
        "for j in sample:\n",
        "  if 'R' in j[1]:\n",
        "    listc.append(j)\n",
        "\n",
        "C = np.array(listc)\n",
        "\n",
        "print(\"\\nC event occurs when red is drawn on the second draw.\\nC: \", C)\n",
        "\n",
        "#The union of all events\n",
        "\n",
        "listu = [*A, *B, *C]\n",
        "\n",
        "union = np.array(listu)\n",
        "\n",
        "print(\"\\nUnion\\n(A U B U C): \\n\", union)\n",
        "\n",
        "#The intersection of all events\n",
        "\n",
        "aset = set([tuple(x) for x in A])\n",
        "bset = set([tuple(x) for x in B])\n",
        "cset = set([tuple(x) for x in C])\n",
        "\n",
        "intersection = np.array([x for x in aset & bset & cset])\n",
        "print(\"\\nIntersection\\n(A ∩ B ∩ C): \\n\", intersection)"
      ],
      "metadata": {
        "colab": {
          "base_uri": "https://localhost:8080/"
        },
        "id": "dibCqhJuevze",
        "outputId": "58c26fef-839b-4c51-a04e-5828635ea6f9"
      },
      "execution_count": 32,
      "outputs": [
        {
          "output_type": "stream",
          "name": "stdout",
          "text": [
            "\n",
            "A event occurs when red is drawn three times.\n",
            "A:  [['R' 'R' 'R']]\n",
            "\n",
            "B event occurs when green is drawn on the last draw.\n",
            "B:  [['R' 'R' 'G']\n",
            " ['R' 'R' 'G']\n",
            " ['R' 'R' 'G']\n",
            " ['R' 'R' 'G']\n",
            " ['R' 'G' 'G']\n",
            " ['R' 'G' 'G']\n",
            " ['R' 'W' 'G']\n",
            " ['R' 'W' 'G']\n",
            " ['R' 'R' 'G']\n",
            " ['R' 'R' 'G']\n",
            " ['R' 'R' 'G']\n",
            " ['R' 'R' 'G']\n",
            " ['R' 'G' 'G']\n",
            " ['R' 'G' 'G']\n",
            " ['R' 'W' 'G']\n",
            " ['R' 'W' 'G']\n",
            " ['R' 'R' 'G']\n",
            " ['R' 'R' 'G']\n",
            " ['R' 'R' 'G']\n",
            " ['R' 'R' 'G']\n",
            " ['R' 'G' 'G']\n",
            " ['R' 'G' 'G']\n",
            " ['R' 'W' 'G']\n",
            " ['R' 'W' 'G']\n",
            " ['G' 'R' 'G']\n",
            " ['G' 'R' 'G']\n",
            " ['G' 'R' 'G']\n",
            " ['G' 'W' 'G']\n",
            " ['G' 'R' 'G']\n",
            " ['G' 'R' 'G']\n",
            " ['G' 'R' 'G']\n",
            " ['G' 'W' 'G']\n",
            " ['W' 'R' 'G']\n",
            " ['W' 'R' 'G']\n",
            " ['W' 'R' 'G']\n",
            " ['W' 'R' 'G']\n",
            " ['W' 'R' 'G']\n",
            " ['W' 'R' 'G']\n",
            " ['W' 'G' 'G']\n",
            " ['W' 'G' 'G']]\n",
            "\n",
            "C event occurs when red is drawn on the second draw.\n",
            "C:  [['R' 'R' 'R']\n",
            " ['R' 'R' 'G']\n",
            " ['R' 'R' 'G']\n",
            " ['R' 'R' 'W']\n",
            " ['R' 'R' 'R']\n",
            " ['R' 'R' 'G']\n",
            " ['R' 'R' 'G']\n",
            " ['R' 'R' 'W']\n",
            " ['R' 'R' 'R']\n",
            " ['R' 'R' 'G']\n",
            " ['R' 'R' 'G']\n",
            " ['R' 'R' 'W']\n",
            " ['R' 'R' 'R']\n",
            " ['R' 'R' 'G']\n",
            " ['R' 'R' 'G']\n",
            " ['R' 'R' 'W']\n",
            " ['R' 'R' 'R']\n",
            " ['R' 'R' 'G']\n",
            " ['R' 'R' 'G']\n",
            " ['R' 'R' 'W']\n",
            " ['R' 'R' 'R']\n",
            " ['R' 'R' 'G']\n",
            " ['R' 'R' 'G']\n",
            " ['R' 'R' 'W']\n",
            " ['G' 'R' 'R']\n",
            " ['G' 'R' 'R']\n",
            " ['G' 'R' 'G']\n",
            " ['G' 'R' 'W']\n",
            " ['G' 'R' 'R']\n",
            " ['G' 'R' 'R']\n",
            " ['G' 'R' 'G']\n",
            " ['G' 'R' 'W']\n",
            " ['G' 'R' 'R']\n",
            " ['G' 'R' 'R']\n",
            " ['G' 'R' 'G']\n",
            " ['G' 'R' 'W']\n",
            " ['G' 'R' 'R']\n",
            " ['G' 'R' 'R']\n",
            " ['G' 'R' 'G']\n",
            " ['G' 'R' 'W']\n",
            " ['G' 'R' 'R']\n",
            " ['G' 'R' 'R']\n",
            " ['G' 'R' 'G']\n",
            " ['G' 'R' 'W']\n",
            " ['G' 'R' 'R']\n",
            " ['G' 'R' 'R']\n",
            " ['G' 'R' 'G']\n",
            " ['G' 'R' 'W']\n",
            " ['W' 'R' 'R']\n",
            " ['W' 'R' 'R']\n",
            " ['W' 'R' 'G']\n",
            " ['W' 'R' 'G']\n",
            " ['W' 'R' 'R']\n",
            " ['W' 'R' 'R']\n",
            " ['W' 'R' 'G']\n",
            " ['W' 'R' 'G']\n",
            " ['W' 'R' 'R']\n",
            " ['W' 'R' 'R']\n",
            " ['W' 'R' 'G']\n",
            " ['W' 'R' 'G']]\n",
            "\n",
            "Union\n",
            "(A U B U C): \n",
            " [['R' 'R' 'R']\n",
            " ['R' 'R' 'G']\n",
            " ['R' 'R' 'G']\n",
            " ['R' 'R' 'G']\n",
            " ['R' 'R' 'G']\n",
            " ['R' 'G' 'G']\n",
            " ['R' 'G' 'G']\n",
            " ['R' 'W' 'G']\n",
            " ['R' 'W' 'G']\n",
            " ['R' 'R' 'G']\n",
            " ['R' 'R' 'G']\n",
            " ['R' 'R' 'G']\n",
            " ['R' 'R' 'G']\n",
            " ['R' 'G' 'G']\n",
            " ['R' 'G' 'G']\n",
            " ['R' 'W' 'G']\n",
            " ['R' 'W' 'G']\n",
            " ['R' 'R' 'G']\n",
            " ['R' 'R' 'G']\n",
            " ['R' 'R' 'G']\n",
            " ['R' 'R' 'G']\n",
            " ['R' 'G' 'G']\n",
            " ['R' 'G' 'G']\n",
            " ['R' 'W' 'G']\n",
            " ['R' 'W' 'G']\n",
            " ['G' 'R' 'G']\n",
            " ['G' 'R' 'G']\n",
            " ['G' 'R' 'G']\n",
            " ['G' 'W' 'G']\n",
            " ['G' 'R' 'G']\n",
            " ['G' 'R' 'G']\n",
            " ['G' 'R' 'G']\n",
            " ['G' 'W' 'G']\n",
            " ['W' 'R' 'G']\n",
            " ['W' 'R' 'G']\n",
            " ['W' 'R' 'G']\n",
            " ['W' 'R' 'G']\n",
            " ['W' 'R' 'G']\n",
            " ['W' 'R' 'G']\n",
            " ['W' 'G' 'G']\n",
            " ['W' 'G' 'G']\n",
            " ['R' 'R' 'R']\n",
            " ['R' 'R' 'G']\n",
            " ['R' 'R' 'G']\n",
            " ['R' 'R' 'W']\n",
            " ['R' 'R' 'R']\n",
            " ['R' 'R' 'G']\n",
            " ['R' 'R' 'G']\n",
            " ['R' 'R' 'W']\n",
            " ['R' 'R' 'R']\n",
            " ['R' 'R' 'G']\n",
            " ['R' 'R' 'G']\n",
            " ['R' 'R' 'W']\n",
            " ['R' 'R' 'R']\n",
            " ['R' 'R' 'G']\n",
            " ['R' 'R' 'G']\n",
            " ['R' 'R' 'W']\n",
            " ['R' 'R' 'R']\n",
            " ['R' 'R' 'G']\n",
            " ['R' 'R' 'G']\n",
            " ['R' 'R' 'W']\n",
            " ['R' 'R' 'R']\n",
            " ['R' 'R' 'G']\n",
            " ['R' 'R' 'G']\n",
            " ['R' 'R' 'W']\n",
            " ['G' 'R' 'R']\n",
            " ['G' 'R' 'R']\n",
            " ['G' 'R' 'G']\n",
            " ['G' 'R' 'W']\n",
            " ['G' 'R' 'R']\n",
            " ['G' 'R' 'R']\n",
            " ['G' 'R' 'G']\n",
            " ['G' 'R' 'W']\n",
            " ['G' 'R' 'R']\n",
            " ['G' 'R' 'R']\n",
            " ['G' 'R' 'G']\n",
            " ['G' 'R' 'W']\n",
            " ['G' 'R' 'R']\n",
            " ['G' 'R' 'R']\n",
            " ['G' 'R' 'G']\n",
            " ['G' 'R' 'W']\n",
            " ['G' 'R' 'R']\n",
            " ['G' 'R' 'R']\n",
            " ['G' 'R' 'G']\n",
            " ['G' 'R' 'W']\n",
            " ['G' 'R' 'R']\n",
            " ['G' 'R' 'R']\n",
            " ['G' 'R' 'G']\n",
            " ['G' 'R' 'W']\n",
            " ['W' 'R' 'R']\n",
            " ['W' 'R' 'R']\n",
            " ['W' 'R' 'G']\n",
            " ['W' 'R' 'G']\n",
            " ['W' 'R' 'R']\n",
            " ['W' 'R' 'R']\n",
            " ['W' 'R' 'G']\n",
            " ['W' 'R' 'G']\n",
            " ['W' 'R' 'R']\n",
            " ['W' 'R' 'R']\n",
            " ['W' 'R' 'G']\n",
            " ['W' 'R' 'G']]\n",
            "\n",
            "Intersection\n",
            "(A ∩ B ∩ C): \n",
            " []\n"
          ]
        }
      ]
    },
    {
      "cell_type": "markdown",
      "source": [
        "## 7.\n",
        "Prove Bonferroni’s inequality:\n",
        "\\begin{equation} P(A ∩ B) ≥ P(A) + P(B) − 1 \\end{equation}"
      ],
      "metadata": {
        "id": "oZuKgzl6gvB1"
      }
    },
    {
      "cell_type": "markdown",
      "source": [
        "\\begin{equation} P(A ∩ B) ≥ P(A) + P(B) − 1 \\end{equation}"
      ],
      "metadata": {
        "id": "TVM2h7HHhXqB"
      }
    },
    {
      "cell_type": "markdown",
      "source": [
        "## 9.\n",
        "The weather forecaster says that the probability of rain on Saturday is 25% and that the probability of rain on Sunday is 25%.\n",
        "<br>\n",
        "Is the probability of rain during the weekend 50%? Why or why not?"
      ],
      "metadata": {
        "id": "6aHW2IV-iJDc"
      }
    },
    {
      "cell_type": "code",
      "source": [
        "saturday_probability = 0.25\n",
        "sunday_probability = 0.25\n",
        "\n",
        "weekend_probability = saturday_probability + sunday_probability - (saturday_probability*sunday_probability)\n",
        "print(weekend_probability)"
      ],
      "metadata": {
        "colab": {
          "base_uri": "https://localhost:8080/"
        },
        "id": "mIJfmEspiScT",
        "outputId": "b8b5e216-1f0e-4707-b17b-4b25b79e6acb"
      },
      "execution_count": 33,
      "outputs": [
        {
          "output_type": "stream",
          "name": "stdout",
          "text": [
            "0.4375\n"
          ]
        }
      ]
    },
    {
      "cell_type": "markdown",
      "source": [
        "Acoording to the Addition Law:\n",
        "<br>\n",
        "<br>\n",
        "\\begin{equation} P(A U B) = P(A) + P(B) - P(A ∩ B) \\end{equation}\n",
        "\n",
        "<br>\n",
        "Since A and B are independent events,\n",
        "<br>\n",
        "<br>\n",
        "\\begin{equation} P(A ∩ B) = P(A)\\cdot P(B)  \\end{equation}\n",
        "\n",
        "\\begin{equation} P(A U B) = 0.25 + 0.25 - (0.25 \\cdot 0.25) = 0.4375\\end{equation}"
      ],
      "metadata": {
        "id": "nmfH2CZ-itVl"
      }
    },
    {
      "cell_type": "markdown",
      "source": [
        "##11.\n",
        "The first three digits of a university telephone exchange are 452.\n",
        "<br>\n",
        "If all the sequences of the remaining four digits are equally likely, what is the probability that a randomly selected university phone number contains seven distinct digits?"
      ],
      "metadata": {
        "id": "y1go48-8lpw8"
      }
    },
    {
      "cell_type": "code",
      "source": [
        "# listing sample space\n",
        "possible_digits = ['1234567890']\n",
        "\n",
        "*sample, = itertools.combinations_with_replacement(*possible_digits, 4)\n",
        "\n",
        "sample = np.array(sample)\n",
        "\n",
        "all_outcomes = len(sample)\n",
        "\n",
        "print(\"Sample space size: \\nΩ =\", len(sample))\n",
        "\n",
        "#removing duplicate values\n",
        "\n",
        "for i in sample:\n",
        "  if i[0] == i[1] or i[0] == i[2] or i[0] == i[3] or i[1] == i[2] or i[1] == i[3] or i[2] == i[3]:\n",
        "    row = np.where((sample == i).all(axis=1))\n",
        "    sample = np.delete(sample, row, axis=0)\n",
        "\n",
        "print(\"\\nSample space with distinct values (not counting first 3 digits): \\nΩ =\", len(sample))\n",
        "\n",
        "# finding distinct digits arrays\n",
        "\n",
        "count = 0\n",
        "\n",
        "for n in sample:\n",
        "  if '4' and '5' and '2' not in n:\n",
        "    count += 1\n",
        "\n",
        "print(\"\\nNumber of distinct values:\\nN =\", count)\n",
        "\n",
        "print(\"\\nProbability of Unique Values:\\nP(N) =\", (count/all_outcomes))"
      ],
      "metadata": {
        "colab": {
          "base_uri": "https://localhost:8080/"
        },
        "id": "MOAlnjIbl3cp",
        "outputId": "e77b2ac9-c288-40e7-b350-1c76be6283bb"
      },
      "execution_count": 34,
      "outputs": [
        {
          "output_type": "stream",
          "name": "stdout",
          "text": [
            "Sample space size: \n",
            "Ω = 715\n",
            "\n",
            "Sample space with distinct values (not counting first 3 digits): \n",
            "Ω = 210\n",
            "\n",
            "Number of distinct values:\n",
            "N = 126\n",
            "\n",
            "Probability of Unique Values:\n",
            "P(N) = 0.17622377622377622\n"
          ]
        }
      ]
    },
    {
      "cell_type": "markdown",
      "source": [
        "\\begin{equation} P(distinct) = \\frac{7 \\cdot 6 \\cdot 5 \\cdot 4}{10^4} = 0.084 \\end{equation}"
      ],
      "metadata": {
        "id": "tfBL8BnQ1u2O"
      }
    },
    {
      "cell_type": "markdown",
      "source": [
        "## 13.\n",
        "In a game of poker, what is the probability that a five-card hand will contain\n",
        "<br>\n",
        "(a)\n",
        "a straight (five cards in unbroken numerical sequence),\n",
        "<br>\n",
        "(b) four of a kind, and\n",
        "<br>\n",
        "(c)\n",
        "a full house (three cards of one value and two cards of another value)?"
      ],
      "metadata": {
        "id": "qq1wnAj82jBc"
      }
    },
    {
      "cell_type": "code",
      "source": [
        "#sample space\n",
        "\n",
        "deck = 52\n",
        "hand = 5\n",
        "suit = 4\n",
        "\n",
        "all_outcomes = math.comb(deck, hand)\n",
        "\n",
        "print(\"Sample space size: \\nΩ =\", all_outcomes)\n",
        "\n",
        "#sequence\n",
        "\n",
        "# A-2-3-4-5\n",
        "# 2-3-4-5-6\n",
        "# 3-4-5-6-7\n",
        "# 4-5-6-7-8\n",
        "# 5-6-7-8-9\n",
        "# 6-7-8-9-10\n",
        "# 7-8-9-10-J\n",
        "# 8-9-10-J-Q\n",
        "# 9-10-J-Q-K\n",
        "# 10-J-Q-K-A\n",
        "\n",
        "sequence_types = 10\n",
        "\n",
        "# For each card in the hand, there's 4 possible suits, that multiplied by the possible sequences for each suit\n",
        "A = sequence_types * suit ** 5 - ( 4 * 10) #also remove the straight flush possible from every suit\n",
        "\n",
        "print(\"\\nProbability of a straight: \\nP(A) =\", (A/all_outcomes))\n",
        "\n",
        "\n",
        "#four of a kind\n",
        "\n",
        "# There are xxxxy ways of having four of a kind, so 13 possiblites of 4 cards and (13-1) different last cards for every suit\n",
        "B = 13 * 12 * 4\n",
        "\n",
        "print(\"\\nProbability of four of a kind: \\nP(B) =\", (B/all_outcomes))\n",
        "\n",
        "#full house\n",
        "\n",
        "# There are xxxyy ways of having a full house, so 13 possibilites for 3 cards and(13-1) possibilites for 2 cards\n",
        "C = 13 * 4 * 12 * 6 #beside that, choose 4 suits for 3 cards and 4 suits for 2 cards\n",
        "\n",
        "print(\"\\nProbability of a full house: \\nP(C) =\", (C/all_outcomes))"
      ],
      "metadata": {
        "colab": {
          "base_uri": "https://localhost:8080/"
        },
        "id": "u5sPvRJZ21h7",
        "outputId": "15f758ba-004d-4853-cfb7-c804a8892803"
      },
      "execution_count": 35,
      "outputs": [
        {
          "output_type": "stream",
          "name": "stdout",
          "text": [
            "Sample space size: \n",
            "Ω = 2598960\n",
            "\n",
            "Probability of a straight: \n",
            "P(A) = 0.003924646781789639\n",
            "\n",
            "Probability of four of a kind: \n",
            "P(B) = 0.00024009603841536616\n",
            "\n",
            "Probability of a full house: \n",
            "P(C) = 0.0014405762304921968\n"
          ]
        }
      ]
    },
    {
      "cell_type": "markdown",
      "source": [
        "## 15.\n",
        "How many different meals can be made from four kinds of meat, six vegetables,\n",
        "and three starches if a meal consists of one selection from each group?"
      ],
      "metadata": {
        "id": "lQHKWn1W__9q"
      }
    },
    {
      "cell_type": "code",
      "source": [
        "meat = ['M1', 'M2', 'M3', 'M4']\n",
        "veggies = ['V1', 'V2', 'V3', 'V4', 'V5', 'V6']\n",
        "starches = ['S1', 'S2', 'S3']\n",
        "\n",
        "*sample, = itertools.product(meat, veggies, starches)\n",
        "\n",
        "sample = np.array(sample)\n",
        "\n",
        "print(\"Sample space size: \\nΩ =\", len(sample))"
      ],
      "metadata": {
        "colab": {
          "base_uri": "https://localhost:8080/"
        },
        "id": "zkvwxZDwAEYu",
        "outputId": "30d19a86-751f-4cc0-e516-24fca8d42762"
      },
      "execution_count": 41,
      "outputs": [
        {
          "output_type": "stream",
          "name": "stdout",
          "text": [
            "Sample space size: \n",
            "Ω = 72\n"
          ]
        }
      ]
    },
    {
      "cell_type": "markdown",
      "source": [
        "\\begin{equation} Combination = {4!} \\cdot {6!} \\cdot {3!}  = 72 \\end{equation}"
      ],
      "metadata": {
        "id": "TPnhJcJABDMQ"
      }
    },
    {
      "cell_type": "markdown",
      "source": [
        "## 17.\n",
        "In acceptance sampling, a purchaser samples 4 items from a lot of 100 and rejects the lot if 1 or more are defective.\n",
        "<br>\n",
        "Graph the probability that the lot is accepted as a function of the percentage of defective items in the lot."
      ],
      "metadata": {
        "id": "IzG1yMLmJDKp"
      }
    },
    {
      "cell_type": "markdown",
      "source": [
        "\\begin{equation} P(A) = \\frac{\\begin{pmatrix}k \\\\ m \\end{pmatrix}\\begin{pmatrix} n - k \\\\ r - m \\end{pmatrix}}{\\begin{pmatrix}n \\\\ r \\end{pmatrix}} \\end{equation}"
      ],
      "metadata": {
        "id": "o-_XyFw1JMXI"
      }
    },
    {
      "cell_type": "markdown",
      "source": [
        "n = items\n",
        "<br>\n",
        "r = sample size\n",
        "<br>\n",
        "k = defective items\n",
        "<br>\n",
        "m = sample defective items"
      ],
      "metadata": {
        "id": "GGDCHRckJPkB"
      }
    },
    {
      "cell_type": "code",
      "source": [
        "import scipy.special as scp\n",
        "\n",
        "n = 100\n",
        "r = 4\n",
        "m = 0\n",
        "\n",
        "arr = []\n",
        "\n",
        "p = 0\n",
        "\n",
        "for k in range(1, 100):\n",
        "  p = scp.binom(k, m) * scp.binom(n - k, r - m) / scp.binom(n, r)\n",
        "  arr.append(p)\n",
        "\n",
        "df = pd.DataFrame(arr)\n",
        "\n",
        "plt.plot(df)\n",
        "plt.title(\"Likelihood\")\n",
        "\n",
        "plt.show()\n",
        "\n",
        "print(\"Highest chance of lot being accepted by amount of defective items: \", max(arr))"
      ],
      "metadata": {
        "colab": {
          "base_uri": "https://localhost:8080/",
          "height": 469
        },
        "id": "ZZePO4VQJIVZ",
        "outputId": "e039562b-e459-4f6f-f574-9c7381e1a16a"
      },
      "execution_count": 102,
      "outputs": [
        {
          "output_type": "display_data",
          "data": {
            "text/plain": [
              "<Figure size 640x480 with 1 Axes>"
            ],
            "image/png": "[encoded data removed]"
          },
          "metadata": {}
        },
        {
          "output_type": "stream",
          "name": "stdout",
          "text": [
            "Highest chance of lot being accepted by amount of defective items:  0.96\n"
          ]
        }
      ]
    }
  ]
}